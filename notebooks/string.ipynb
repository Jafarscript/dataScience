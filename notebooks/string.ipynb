{
 "cells": [
  {
   "cell_type": "code",
   "execution_count": 2,
   "id": "6201c4e9",
   "metadata": {},
   "outputs": [
    {
     "data": {
      "text/plain": [
       "['My', 'name', 'is', 'Jafar', 'I', 'am', 'from', 'Lagos']"
      ]
     },
     "execution_count": 2,
     "metadata": {},
     "output_type": "execute_result"
    }
   ],
   "source": [
    "string = 'My:name:is:Jafar:I:am:from:Lagos'\n",
    "string.split(':')"
   ]
  },
  {
   "cell_type": "code",
   "execution_count": 3,
   "id": "5c521218",
   "metadata": {},
   "outputs": [
    {
     "data": {
      "text/plain": [
       "'lihammed@gmail.com'"
      ]
     },
     "execution_count": 3,
     "metadata": {},
     "output_type": "execute_result"
    }
   ],
   "source": [
    "email = 'lihaMMEd@GMail.Com'\n",
    "email.lower()"
   ]
  },
  {
   "cell_type": "code",
   "execution_count": 4,
   "id": "cb3d4509",
   "metadata": {},
   "outputs": [
    {
     "data": {
      "text/plain": [
       "'JAFFAR'"
      ]
     },
     "execution_count": 4,
     "metadata": {},
     "output_type": "execute_result"
    }
   ],
   "source": [
    "username = 'jafFar'\n",
    "username.upper()"
   ]
  },
  {
   "cell_type": "code",
   "execution_count": 5,
   "id": "be178dba",
   "metadata": {},
   "outputs": [
    {
     "data": {
      "text/plain": [
       "'cd   desktop'"
      ]
     },
     "execution_count": 5,
     "metadata": {},
     "output_type": "execute_result"
    }
   ],
   "source": [
    "commad = '  cd   desktop   '\n",
    "commad.strip()"
   ]
  },
  {
   "cell_type": "code",
   "execution_count": 6,
   "id": "4ac576c0",
   "metadata": {},
   "outputs": [
    {
     "data": {
      "text/plain": [
       "24"
      ]
     },
     "execution_count": 6,
     "metadata": {},
     "output_type": "execute_result"
    }
   ],
   "source": [
    "history = 'Nelson Rolihlahla Mandela was a South African anti-apartheid activist and politician who served as the first president of South Africa from 1994 to 1999.'\n",
    "sentenceList = history.split(' ')\n",
    "len(sentenceList)"
   ]
  },
  {
   "cell_type": "code",
   "execution_count": 7,
   "id": "5c67b20d",
   "metadata": {},
   "outputs": [
    {
     "name": "stdout",
     "output_type": "stream",
     "text": [
      "Nelson Rolihlahla Mandela was a South African anti-apartheid activist and politician who served as the first president of South Africa from 1994 to 1999.\n"
     ]
    }
   ],
   "source": [
    "newString = \" \".join(sentenceList)\n",
    "print(newString)"
   ]
  },
  {
   "cell_type": "code",
   "execution_count": 8,
   "id": "e7b99cc2",
   "metadata": {},
   "outputs": [
    {
     "name": "stdout",
     "output_type": "stream",
     "text": [
      "-1\n"
     ]
    }
   ],
   "source": [
    "text = 'Hello, World!'\n",
    "found = text.find('@')\n",
    "print(found)"
   ]
  },
  {
   "cell_type": "code",
   "execution_count": 9,
   "id": "80dd3562",
   "metadata": {},
   "outputs": [
    {
     "name": "stdout",
     "output_type": "stream",
     "text": [
      "{'name': 'John', 'age': 30, 'city': 'Oshodi'}\n"
     ]
    }
   ],
   "source": [
    "my_dict = {\"name\": \"John\", \"age\": 30, \"city\": \"New York\"}\n",
    "my_dict[\"city\"] = 'Oshodi'\n",
    "print(my_dict)"
   ]
  },
  {
   "cell_type": "code",
   "execution_count": null,
   "id": "b1ed6918",
   "metadata": {},
   "outputs": [],
   "source": []
  },
  {
   "cell_type": "code",
   "execution_count": 10,
   "id": "20cdf583",
   "metadata": {},
   "outputs": [
    {
     "name": "stdout",
     "output_type": "stream",
     "text": [
      "Hello, Bola!\n"
     ]
    }
   ],
   "source": [
    "myName = 'Bola'\n",
    "_text = \"\"\n",
    "if myName:\n",
    "    _text = text.replace('World', myName)\n",
    "else:\n",
    "    _text = text.replace('World', 'User')\n",
    "print(_text)"
   ]
  },
  {
   "cell_type": "code",
   "execution_count": 11,
   "id": "d499a196",
   "metadata": {},
   "outputs": [
    {
     "name": "stdout",
     "output_type": "stream",
     "text": [
      "My name is Jafar\n"
     ]
    }
   ],
   "source": [
    "tuple = ('My', 'name', 'is', 'Jafar')\n",
    "\n",
    "stringfy = \" \".join(tuple) \n",
    "print(stringfy)"
   ]
  },
  {
   "cell_type": "code",
   "execution_count": 12,
   "id": "de8467df",
   "metadata": {},
   "outputs": [],
   "source": [
    "my_dict = {\"name\": \"John\", \"age\": 30, \"city\": \"New York\"}\n",
    "my_dict[\"city\"] = 'Oshodi'"
   ]
  },
  {
   "cell_type": "code",
   "execution_count": 13,
   "id": "b909a253",
   "metadata": {},
   "outputs": [
    {
     "data": {
      "text/plain": [
       "dict_keys(['name', 'age', 'city'])"
      ]
     },
     "execution_count": 13,
     "metadata": {},
     "output_type": "execute_result"
    }
   ],
   "source": [
    "my_dict.keys()"
   ]
  },
  {
   "cell_type": "code",
   "execution_count": 14,
   "id": "04f8ad4d",
   "metadata": {},
   "outputs": [
    {
     "data": {
      "text/plain": [
       "dict_values(['John', 30, 'Oshodi'])"
      ]
     },
     "execution_count": 14,
     "metadata": {},
     "output_type": "execute_result"
    }
   ],
   "source": [
    "my_dict.values()"
   ]
  },
  {
   "cell_type": "code",
   "execution_count": 15,
   "id": "9ccb801f",
   "metadata": {},
   "outputs": [
    {
     "data": {
      "text/plain": [
       "dict_items([('name', 'John'), ('age', 30), ('city', 'Oshodi')])"
      ]
     },
     "execution_count": 15,
     "metadata": {},
     "output_type": "execute_result"
    }
   ],
   "source": [
    "my_dict.items()"
   ]
  },
  {
   "cell_type": "code",
   "execution_count": 16,
   "id": "682a25b1",
   "metadata": {},
   "outputs": [
    {
     "data": {
      "text/plain": [
       "'Lagos'"
      ]
     },
     "execution_count": 16,
     "metadata": {},
     "output_type": "execute_result"
    }
   ],
   "source": [
    "my_dict.get('state', 'Lagos')"
   ]
  },
  {
   "cell_type": "code",
   "execution_count": 17,
   "id": "1d0b9214",
   "metadata": {},
   "outputs": [
    {
     "data": {
      "text/plain": [
       "'John'"
      ]
     },
     "execution_count": 17,
     "metadata": {},
     "output_type": "execute_result"
    }
   ],
   "source": [
    "my_dict.pop('name')"
   ]
  },
  {
   "cell_type": "code",
   "execution_count": 18,
   "id": "65471bb5",
   "metadata": {},
   "outputs": [
    {
     "name": "stdout",
     "output_type": "stream",
     "text": [
      "{'age': 30, 'city': 'Oshodi'}\n"
     ]
    }
   ],
   "source": [
    "print(my_dict)"
   ]
  },
  {
   "cell_type": "code",
   "execution_count": 23,
   "id": "a423afd5",
   "metadata": {},
   "outputs": [
    {
     "data": {
      "text/plain": [
       "dict_keys(['age', 'city', 'state', 'country', 'name'])"
      ]
     },
     "execution_count": 23,
     "metadata": {},
     "output_type": "execute_result"
    }
   ],
   "source": [
    "other_dict = {'state' : 'Lagos', 'country' : 'Nigeria', 'name' : 'Alice'}\n",
    "my_dict.update({'state' : 'Lagos', 'country' : 'Nigeria', 'name' : 'Alice'})\n",
    "my_dict.keys()"
   ]
  }
 ],
 "metadata": {
  "kernelspec": {
   "display_name": "Python 3 (ipykernel)",
   "language": "python",
   "name": "python3"
  },
  "language_info": {
   "codemirror_mode": {
    "name": "ipython",
    "version": 3
   },
   "file_extension": ".py",
   "mimetype": "text/x-python",
   "name": "python",
   "nbconvert_exporter": "python",
   "pygments_lexer": "ipython3",
   "version": "3.9.15"
  }
 },
 "nbformat": 4,
 "nbformat_minor": 5
}
