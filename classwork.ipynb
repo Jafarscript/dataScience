{
 "cells": [
  {
   "cell_type": "code",
   "execution_count": 3,
   "id": "dc009cf4",
   "metadata": {},
   "outputs": [
    {
     "name": "stdout",
     "output_type": "stream",
     "text": [
      "14\n"
     ]
    }
   ],
   "source": [
    "#variable (num1 , num2)\n",
    "num1 = 5\n",
    "num2 = 9\n",
    "\n",
    "sum = num1 + num2\n",
    "print (sum)\n"
   ]
  },
  {
   "cell_type": "code",
   "execution_count": 4,
   "id": "a3698881",
   "metadata": {},
   "outputs": [
    {
     "name": "stdout",
     "output_type": "stream",
     "text": [
      "-4\n"
     ]
    }
   ],
   "source": [
    "sub = num1 - num2\n",
    "print (sub)"
   ]
  },
  {
   "cell_type": "code",
   "execution_count": 5,
   "id": "5fcb8f48",
   "metadata": {},
   "outputs": [
    {
     "name": "stdout",
     "output_type": "stream",
     "text": [
      "45\n"
     ]
    }
   ],
   "source": [
    "mult = num1 * num2\n",
    "print (mult)"
   ]
  },
  {
   "cell_type": "code",
   "execution_count": 6,
   "id": "b94ba608",
   "metadata": {},
   "outputs": [
    {
     "name": "stdout",
     "output_type": "stream",
     "text": [
      "0.5555555555555556\n"
     ]
    }
   ],
   "source": [
    "div = num1 / num2\n",
    "print (div)"
   ]
  },
  {
   "cell_type": "code",
   "execution_count": 13,
   "id": "14d0de88",
   "metadata": {},
   "outputs": [
    {
     "data": {
      "text/plain": [
       "8"
      ]
     },
     "execution_count": 13,
     "metadata": {},
     "output_type": "execute_result"
    }
   ],
   "source": [
    "def calculate_power (base, exponent): \n",
    "    return base**exponent\n",
    "calculate_power(2,3)"
   ]
  },
  {
   "cell_type": "code",
   "execution_count": 16,
   "id": "e11af72e",
   "metadata": {},
   "outputs": [
    {
     "data": {
      "text/plain": [
       "\"you're a boy\""
      ]
     },
     "execution_count": 16,
     "metadata": {},
     "output_type": "execute_result"
    }
   ],
   "source": [
    "def adulthood(adult):\n",
    "    if adult >= 18:\n",
    "        return \"you're an adult\" \n",
    "    else :\n",
    "        return \"you're a boy\"\n",
    "adulthood (10)\n",
    "    \n",
    "    "
   ]
  },
  {
   "cell_type": "code",
   "execution_count": 19,
   "id": "36f635d0",
   "metadata": {},
   "outputs": [
    {
     "data": {
      "text/plain": [
       "\"it's hot and sunny\""
      ]
     },
     "execution_count": 19,
     "metadata": {},
     "output_type": "execute_result"
    }
   ],
   "source": [
    "def WeatherCondition(hot, sunny):\n",
    "    if hot >= 39 and sunny:\n",
    "        return \"it's hot and sunny\"\n",
    "    else:\n",
    "        return \"it's sunny but not too hot\"\n",
    "WeatherCondition (39, True)"
   ]
  },
  {
   "cell_type": "code",
   "execution_count": null,
   "id": "de125064",
   "metadata": {},
   "outputs": [],
   "source": []
  }
 ],
 "metadata": {
  "kernelspec": {
   "display_name": "Python 3 (ipykernel)",
   "language": "python",
   "name": "python3"
  },
  "language_info": {
   "codemirror_mode": {
    "name": "ipython",
    "version": 3
   },
   "file_extension": ".py",
   "mimetype": "text/x-python",
   "name": "python",
   "nbconvert_exporter": "python",
   "pygments_lexer": "ipython3",
   "version": "3.9.15"
  }
 },
 "nbformat": 4,
 "nbformat_minor": 5
}
