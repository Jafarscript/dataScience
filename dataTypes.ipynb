{
 "cells": [
  {
   "cell_type": "code",
   "execution_count": 2,
   "id": "ef0b1193",
   "metadata": {},
   "outputs": [
    {
     "data": {
      "text/plain": [
       "int"
      ]
     },
     "execution_count": 2,
     "metadata": {},
     "output_type": "execute_result"
    }
   ],
   "source": [
    "var1 = 23 #23 is an integer data type \n",
    "type(var1)"
   ]
  },
  {
   "cell_type": "code",
   "execution_count": 3,
   "id": "fcad71cb",
   "metadata": {},
   "outputs": [
    {
     "data": {
      "text/plain": [
       "float"
      ]
     },
     "execution_count": 3,
     "metadata": {},
     "output_type": "execute_result"
    }
   ],
   "source": [
    "float = 23.5 # 23.5 is a float data type\n",
    "type(float)"
   ]
  },
  {
   "cell_type": "code",
   "execution_count": 4,
   "id": "8e30da27",
   "metadata": {},
   "outputs": [
    {
     "data": {
      "text/plain": [
       "str"
      ]
     },
     "execution_count": 4,
     "metadata": {},
     "output_type": "execute_result"
    }
   ],
   "source": [
    "str = 'marusoft' # 'marusoft' is a float data type\n",
    "type(str)"
   ]
  },
  {
   "cell_type": "code",
   "execution_count": 5,
   "id": "b6754c20",
   "metadata": {},
   "outputs": [
    {
     "data": {
      "text/plain": [
       "bool"
      ]
     },
     "execution_count": 5,
     "metadata": {},
     "output_type": "execute_result"
    }
   ],
   "source": [
    "boolean = True # True is a float data type\n",
    "type(boolean)"
   ]
  },
  {
   "cell_type": "code",
   "execution_count": 6,
   "id": "e4d1929e",
   "metadata": {},
   "outputs": [
    {
     "data": {
      "text/plain": [
       "list"
      ]
     },
     "execution_count": 6,
     "metadata": {},
     "output_type": "execute_result"
    }
   ],
   "source": [
    "list = ['Jafar', 2.4, 'Anas', 14, 25, True] # ['Jafar', 2, 'Anas', 14, 25, True] is a float data type\n",
    "type(list)"
   ]
  },
  {
   "cell_type": "code",
   "execution_count": 7,
   "id": "fd7c3d3c",
   "metadata": {},
   "outputs": [
    {
     "data": {
      "text/plain": [
       "tuple"
      ]
     },
     "execution_count": 7,
     "metadata": {},
     "output_type": "execute_result"
    }
   ],
   "source": [
    "tuple = (1,2,3)\n",
    "type(tuple)"
   ]
  },
  {
   "cell_type": "code",
   "execution_count": 8,
   "id": "ae08a68f",
   "metadata": {},
   "outputs": [],
   "source": [
    "obj = {'name': 'Jafar', 'age': 30, 'lastname': 'Li-hammed'}"
   ]
  },
  {
   "cell_type": "code",
   "execution_count": 9,
   "id": "33dffc9a",
   "metadata": {},
   "outputs": [
    {
     "name": "stdout",
     "output_type": "stream",
     "text": [
      "JafarLi-hammed\n"
     ]
    }
   ],
   "source": [
    "fullName = obj[\"name\"] + obj['lastname'] \n",
    "print(fullName)"
   ]
  },
  {
   "cell_type": "code",
   "execution_count": 10,
   "id": "debabecd",
   "metadata": {},
   "outputs": [
    {
     "data": {
      "text/plain": [
       "set"
      ]
     },
     "execution_count": 10,
     "metadata": {},
     "output_type": "execute_result"
    }
   ],
   "source": [
    "set1 = {1, 2, 3}\n",
    "type(set1)"
   ]
  },
  {
   "cell_type": "code",
   "execution_count": 11,
   "id": "3f1ab24d",
   "metadata": {},
   "outputs": [
    {
     "name": "stdout",
     "output_type": "stream",
     "text": [
      "It's a sunny day\n"
     ]
    }
   ],
   "source": [
    "is_sunny = True\n",
    "temperature = 30\n",
    "if is_sunny or temperature > 30:\n",
    "    print(\"It's a sunny day\")"
   ]
  },
  {
   "cell_type": "code",
   "execution_count": 12,
   "id": "04526011",
   "metadata": {},
   "outputs": [],
   "source": [
    "if is_sunny and temperature < 30:\n",
    "    print(\"It's a hot and sunny day\")"
   ]
  },
  {
   "cell_type": "code",
   "execution_count": 13,
   "id": "a063b0c6",
   "metadata": {},
   "outputs": [
    {
     "name": "stdout",
     "output_type": "stream",
     "text": [
      "21\n"
     ]
    }
   ],
   "source": [
    "age = 21\n",
    "print(age)"
   ]
  },
  {
   "cell_type": "code",
   "execution_count": 14,
   "id": "9d205c5d",
   "metadata": {},
   "outputs": [
    {
     "name": "stdout",
     "output_type": "stream",
     "text": [
      "10\n"
     ]
    }
   ],
   "source": [
    "age = 10\n",
    "print(age)"
   ]
  },
  {
   "cell_type": "code",
   "execution_count": 15,
   "id": "b477f37f",
   "metadata": {},
   "outputs": [
    {
     "data": {
      "text/plain": [
       "'Hello Jafar'"
      ]
     },
     "execution_count": 15,
     "metadata": {},
     "output_type": "execute_result"
    }
   ],
   "source": [
    "def greet(name):\n",
    "    return \"Hello \"+ name\n",
    "greet(\"Jafar\")  # Here, \"Alice\" is an argument."
   ]
  },
  {
   "cell_type": "code",
   "execution_count": 16,
   "id": "b1cb2402",
   "metadata": {},
   "outputs": [
    {
     "name": "stdout",
     "output_type": "stream",
     "text": [
      "It is not rainy\n"
     ]
    }
   ],
   "source": [
    "is_rainy = True\n",
    "if is_rainy:\n",
    "    print('It is not rainy')"
   ]
  },
  {
   "cell_type": "code",
   "execution_count": 17,
   "id": "a7d4597f",
   "metadata": {},
   "outputs": [
    {
     "name": "stdout",
     "output_type": "stream",
     "text": [
      "True\n"
     ]
    }
   ],
   "source": [
    "#Comparison operator are == for equal to\n",
    "age = 30\n",
    "if age == 30:\n",
    "    print(True) "
   ]
  },
  {
   "cell_type": "code",
   "execution_count": 18,
   "id": "98fef163",
   "metadata": {},
   "outputs": [
    {
     "name": "stdout",
     "output_type": "stream",
     "text": [
      "True\n"
     ]
    }
   ],
   "source": [
    "# != not equal to\n",
    "if age != 20:\n",
    "    print(True)     "
   ]
  },
  {
   "cell_type": "code",
   "execution_count": 19,
   "id": "c92984cf",
   "metadata": {},
   "outputs": [
    {
     "name": "stdout",
     "output_type": "stream",
     "text": [
      "30\n"
     ]
    }
   ],
   "source": [
    "# > greater than\n",
    "if age > 20:\n",
    "    print(age)"
   ]
  },
  {
   "cell_type": "code",
   "execution_count": 20,
   "id": "794fb0dc",
   "metadata": {},
   "outputs": [],
   "source": [
    "# < less than\n",
    "if age < 30:\n",
    "    print(age)"
   ]
  },
  {
   "cell_type": "code",
   "execution_count": 23,
   "id": "3506ca14",
   "metadata": {},
   "outputs": [],
   "source": [
    "# >= greater than or equals to\n",
    "if age >= 40:\n",
    "    print('Yes')"
   ]
  },
  {
   "cell_type": "code",
   "execution_count": 24,
   "id": "99851ca6",
   "metadata": {},
   "outputs": [],
   "source": [
    "# <= less than or equals to"
   ]
  },
  {
   "cell_type": "code",
   "execution_count": 26,
   "id": "b85d9e32",
   "metadata": {},
   "outputs": [],
   "source": [
    "if age <= 20:\n",
    "    print('yes')"
   ]
  },
  {
   "cell_type": "code",
   "execution_count": 38,
   "id": "43ff52ca",
   "metadata": {},
   "outputs": [],
   "source": [
    "#and logical operator make sure that all conditions are met\n",
    "is_rainy = True\n",
    "temperature = 14\n",
    "if not is_rainy and temperature == 14:\n",
    "    print(\"It's a rainy day\")"
   ]
  },
  {
   "cell_type": "code",
   "execution_count": 37,
   "id": "837a0043",
   "metadata": {},
   "outputs": [],
   "source": [
    "#or logical operator make sure that either of the conditions is met\n",
    "is_rainy = True\n",
    "temperature = 14\n",
    "if not is_rainy or temperature == 20:\n",
    "    print(\"It's a rainy day\")"
   ]
  },
  {
   "cell_type": "code",
   "execution_count": 35,
   "id": "3930fb0e",
   "metadata": {},
   "outputs": [],
   "source": [
    "# not logical operator is to test the variable is defined\n",
    "range = True\n",
    "if not range:\n",
    "    print(\"It's a rainy day\")    "
   ]
  },
  {
   "cell_type": "code",
   "execution_count": 47,
   "id": "097b42d1",
   "metadata": {},
   "outputs": [
    {
     "name": "stdout",
     "output_type": "stream",
     "text": [
      "You need your parent consent\n"
     ]
    }
   ],
   "source": [
    "age = 17\n"
   ]
  },
  {
   "cell_type": "code",
   "execution_count": 54,
   "id": "93a46553",
   "metadata": {},
   "outputs": [
    {
     "name": "stdout",
     "output_type": "stream",
     "text": [
      "You are an adult\n"
     ]
    }
   ],
   "source": [
    "def validateAge(age):\n",
    "    if age > 150:\n",
    "        print('Are you playing')\n",
    "    elif age >= 18:\n",
    "        print('You are an adult')\n",
    "    elif age > 10:\n",
    "          print(\"You need your parent consent\")\n",
    "    else:\n",
    "          print('Age is not valid')\n",
    "validateAge(150)"
   ]
  },
  {
   "cell_type": "code",
   "execution_count": null,
   "id": "314fcabe",
   "metadata": {},
   "outputs": [],
   "source": []
  }
 ],
 "metadata": {
  "kernelspec": {
   "display_name": "Python 3 (ipykernel)",
   "language": "python",
   "name": "python3"
  },
  "language_info": {
   "codemirror_mode": {
    "name": "ipython",
    "version": 3
   },
   "file_extension": ".py",
   "mimetype": "text/x-python",
   "name": "python",
   "nbconvert_exporter": "python",
   "pygments_lexer": "ipython3",
   "version": "3.9.15"
  }
 },
 "nbformat": 4,
 "nbformat_minor": 5
}
