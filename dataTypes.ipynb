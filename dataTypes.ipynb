{
 "cells": [
  {
   "cell_type": "code",
   "execution_count": 1,
   "id": "ef0b1193",
   "metadata": {},
   "outputs": [
    {
     "data": {
      "text/plain": [
       "int"
      ]
     },
     "execution_count": 1,
     "metadata": {},
     "output_type": "execute_result"
    }
   ],
   "source": [
    "var1 = 23 #23 is an integer data type \n",
    "type(var1)"
   ]
  },
  {
   "cell_type": "code",
   "execution_count": 2,
   "id": "fcad71cb",
   "metadata": {},
   "outputs": [
    {
     "data": {
      "text/plain": [
       "float"
      ]
     },
     "execution_count": 2,
     "metadata": {},
     "output_type": "execute_result"
    }
   ],
   "source": [
    "float = 23.5 # 23.5 is a float data type\n",
    "type(float)"
   ]
  },
  {
   "cell_type": "code",
   "execution_count": 3,
   "id": "8e30da27",
   "metadata": {},
   "outputs": [
    {
     "data": {
      "text/plain": [
       "str"
      ]
     },
     "execution_count": 3,
     "metadata": {},
     "output_type": "execute_result"
    }
   ],
   "source": [
    "str = 'marusoft' # 'marusoft' is a float data type\n",
    "type(str)"
   ]
  },
  {
   "cell_type": "code",
   "execution_count": 4,
   "id": "b6754c20",
   "metadata": {},
   "outputs": [
    {
     "data": {
      "text/plain": [
       "bool"
      ]
     },
     "execution_count": 4,
     "metadata": {},
     "output_type": "execute_result"
    }
   ],
   "source": [
    "boolean = True # True is a float data type\n",
    "type(boolean)"
   ]
  },
  {
   "cell_type": "code",
   "execution_count": 34,
   "id": "e4d1929e",
   "metadata": {},
   "outputs": [
    {
     "name": "stdout",
     "output_type": "stream",
     "text": [
      "<class 'int'>\n"
     ]
    }
   ],
   "source": [
    "list = ['Jafar', 2.4, 'Anas', 14, 25, True] # ['Jafar', 2, 'Anas', 14, 25, True] is a float data type\n",
    "# type(list)\n",
    "# print(type(list[]))"
   ]
  },
  {
   "cell_type": "code",
   "execution_count": 41,
   "id": "fd7c3d3c",
   "metadata": {},
   "outputs": [
    {
     "name": "stdout",
     "output_type": "stream",
     "text": [
      "3\n"
     ]
    }
   ],
   "source": [
    "tuple = (1,2,3)\n",
    "\n",
    "print(len(tuple))"
   ]
  },
  {
   "cell_type": "code",
   "execution_count": null,
   "id": "ae08a68f",
   "metadata": {},
   "outputs": [],
   "source": [
    "obj = {'name': 'Jafar', 'age': 30, 'lastname': 'Li-hammed'}\n"
   ]
  },
  {
   "cell_type": "code",
   "execution_count": 47,
   "id": "33dffc9a",
   "metadata": {},
   "outputs": [
    {
     "name": "stdout",
     "output_type": "stream",
     "text": [
      "Jafar Li-hammed\n"
     ]
    }
   ],
   "source": [
    "fullName = obj[\"name\"] + ' ' + obj['lastname'] \n",
    "print(fullName)"
   ]
  },
  {
   "cell_type": "code",
   "execution_count": 9,
   "id": "debabecd",
   "metadata": {},
   "outputs": [
    {
     "data": {
      "text/plain": [
       "set"
      ]
     },
     "execution_count": 9,
     "metadata": {},
     "output_type": "execute_result"
    }
   ],
   "source": [
    "set1 = {1, 2, 3}\n",
    "type(set1)"
   ]
  },
  {
   "cell_type": "code",
   "execution_count": 75,
   "id": "3f1ab24d",
   "metadata": {},
   "outputs": [
    {
     "name": "stdout",
     "output_type": "stream",
     "text": [
      "It's a sunny day\n"
     ]
    }
   ],
   "source": [
    "is_sunny = 'VGHsvgh'\n",
    "temperature = 30\n",
    "if is_sunny or temperature < 30:\n",
    "    print(\"It's a sunny day\")"
   ]
  },
  {
   "cell_type": "code",
   "execution_count": 78,
   "id": "04526011",
   "metadata": {},
   "outputs": [
    {
     "name": "stdout",
     "output_type": "stream",
     "text": [
      "It's a hot and sunny day\n"
     ]
    }
   ],
   "source": [
    "if is_sunny and temperature:\n",
    "    print(\"It's a hot and sunny day\")"
   ]
  },
  {
   "cell_type": "code",
   "execution_count": 12,
   "id": "a063b0c6",
   "metadata": {},
   "outputs": [
    {
     "name": "stdout",
     "output_type": "stream",
     "text": [
      "21\n"
     ]
    }
   ],
   "source": [
    "age = 21\n",
    "print(age)"
   ]
  },
  {
   "cell_type": "code",
   "execution_count": 13,
   "id": "9d205c5d",
   "metadata": {},
   "outputs": [
    {
     "name": "stdout",
     "output_type": "stream",
     "text": [
      "10\n"
     ]
    }
   ],
   "source": [
    "age = 10\n",
    "print(age)"
   ]
  },
  {
   "cell_type": "code",
   "execution_count": 14,
   "id": "b477f37f",
   "metadata": {},
   "outputs": [
    {
     "data": {
      "text/plain": [
       "'Hello Jafar'"
      ]
     },
     "execution_count": 14,
     "metadata": {},
     "output_type": "execute_result"
    }
   ],
   "source": [
    "def greet(name):\n",
    "    return \"Hello \"+ name\n",
    "greet(\"Jafar\")  # Here, \"Alice\" is an argument."
   ]
  },
  {
   "cell_type": "code",
   "execution_count": 15,
   "id": "b1cb2402",
   "metadata": {},
   "outputs": [
    {
     "name": "stdout",
     "output_type": "stream",
     "text": [
      "It is not rainy\n"
     ]
    }
   ],
   "source": [
    "is_rainy = True\n",
    "if is_rainy:\n",
    "    print('It is not rainy')"
   ]
  },
  {
   "cell_type": "code",
   "execution_count": 16,
   "id": "a7d4597f",
   "metadata": {},
   "outputs": [
    {
     "name": "stdout",
     "output_type": "stream",
     "text": [
      "True\n"
     ]
    }
   ],
   "source": [
    "#Comparison operator are == for equal to\n",
    "age = 30\n",
    "if age == 30:\n",
    "    print(True) "
   ]
  },
  {
   "cell_type": "code",
   "execution_count": 17,
   "id": "98fef163",
   "metadata": {},
   "outputs": [
    {
     "name": "stdout",
     "output_type": "stream",
     "text": [
      "True\n"
     ]
    }
   ],
   "source": [
    "# != not equal to\n",
    "if age != 20:\n",
    "    print(True)     "
   ]
  },
  {
   "cell_type": "code",
   "execution_count": 18,
   "id": "c92984cf",
   "metadata": {},
   "outputs": [
    {
     "name": "stdout",
     "output_type": "stream",
     "text": [
      "30\n"
     ]
    }
   ],
   "source": [
    "# > greater than\n",
    "if age > 20:\n",
    "    print(age)"
   ]
  },
  {
   "cell_type": "code",
   "execution_count": 19,
   "id": "794fb0dc",
   "metadata": {},
   "outputs": [],
   "source": [
    "# < less than\n",
    "if age < 30:\n",
    "    print(age)"
   ]
  },
  {
   "cell_type": "code",
   "execution_count": 20,
   "id": "3506ca14",
   "metadata": {},
   "outputs": [],
   "source": [
    "# >= greater than or equals to\n",
    "if age >= 40:\n",
    "    print('Yes')"
   ]
  },
  {
   "cell_type": "code",
   "execution_count": 21,
   "id": "99851ca6",
   "metadata": {},
   "outputs": [],
   "source": [
    "# <= less than or equals to"
   ]
  },
  {
   "cell_type": "code",
   "execution_count": 22,
   "id": "b85d9e32",
   "metadata": {},
   "outputs": [],
   "source": [
    "if age <= 20:\n",
    "    print('yes')"
   ]
  },
  {
   "cell_type": "code",
   "execution_count": 23,
   "id": "43ff52ca",
   "metadata": {},
   "outputs": [],
   "source": [
    "#and logical operator make sure that all conditions are met\n",
    "is_rainy = True\n",
    "temperature = 14\n",
    "if not is_rainy and temperature == 14:\n",
    "    print(\"It's a rainy day\")"
   ]
  },
  {
   "cell_type": "code",
   "execution_count": 24,
   "id": "837a0043",
   "metadata": {},
   "outputs": [],
   "source": [
    "#or logical operator make sure that either of the conditions is met\n",
    "is_rainy = True\n",
    "temperature = 14\n",
    "if not is_rainy or temperature == 20:\n",
    "    print(\"It's a rainy day\")"
   ]
  },
  {
   "cell_type": "code",
   "execution_count": 25,
   "id": "3930fb0e",
   "metadata": {},
   "outputs": [],
   "source": [
    "# not logical operator is to test the variable is defined\n",
    "range = True\n",
    "if not range:\n",
    "    print(\"It's a rainy day\")    "
   ]
  },
  {
   "cell_type": "code",
   "execution_count": 26,
   "id": "097b42d1",
   "metadata": {},
   "outputs": [],
   "source": [
    "age = 17\n"
   ]
  },
  {
   "cell_type": "code",
   "execution_count": 2,
   "id": "93a46553",
   "metadata": {},
   "outputs": [
    {
     "name": "stdout",
     "output_type": "stream",
     "text": [
      "You are an adult\n"
     ]
    }
   ],
   "source": [
    "def validateAge(age):\n",
    "    if age > 150:\n",
    "        print('Are you playing')\n",
    "    elif age >= 18:\n",
    "        print('You are an adult')\n",
    "    elif age > 10:\n",
    "          print(\"You need your parent consent\")\n",
    "    else:\n",
    "          print('Age is not valid')\n",
    "validateAge(150)"
   ]
  },
  {
   "cell_type": "code",
   "execution_count": 1,
   "id": "314fcabe",
   "metadata": {},
   "outputs": [
    {
     "data": {
      "text/plain": [
       "str"
      ]
     },
     "execution_count": 1,
     "metadata": {},
     "output_type": "execute_result"
    }
   ],
   "source": [
    "string = '1234'\n",
    "type(string)"
   ]
  },
  {
   "cell_type": "code",
   "execution_count": 58,
   "id": "d23c30ed",
   "metadata": {},
   "outputs": [
    {
     "name": "stdout",
     "output_type": "stream",
     "text": [
      "5\n"
     ]
    }
   ],
   "source": [
    "# len()\n",
    "myage = 'Jafar'\n",
    "hisAge = 'Ridwan'\n",
    "if len(myage) <= len(hisAge):\n",
    "    print(len(myage))"
   ]
  },
  {
   "cell_type": "code",
   "execution_count": 8,
   "id": "e5ef2816",
   "metadata": {},
   "outputs": [
    {
     "name": "stdout",
     "output_type": "stream",
     "text": [
      "Age is too small\n"
     ]
    }
   ],
   "source": [
    "age = 5\n",
    "if age > 150:\n",
    "        print('Are you playing')\n",
    "elif age >= 18:\n",
    "        print('You are an adult')\n",
    "elif age > 10:\n",
    "          print(\"You need your parent consent\")\n",
    "else:\n",
    "          print('Age is too small')\n",
    "        \n"
   ]
  },
  {
   "cell_type": "code",
   "execution_count": 10,
   "id": "1d902ed7",
   "metadata": {},
   "outputs": [
    {
     "name": "stdout",
     "output_type": "stream",
     "text": [
      "150\n"
     ]
    }
   ],
   "source": [
    "# print(size)"
   ]
  },
  {
   "cell_type": "code",
   "execution_count": 13,
   "id": "71edb499",
   "metadata": {},
   "outputs": [
    {
     "name": "stdout",
     "output_type": "stream",
     "text": [
      "150\n"
     ]
    }
   ],
   "source": [
    "size = 45\n",
    "size = 150\n",
    "print(size)"
   ]
  },
  {
   "cell_type": "code",
   "execution_count": null,
   "id": "849051b6",
   "metadata": {},
   "outputs": [],
   "source": [
    "def adultHood():\n",
    "    userInput = input(\"Press the following key\") \n",
    "    year = int(userInput)\n",
    "    int(year)\n",
    "    if year > 150:\n",
    "        print('This is a joke')\n",
    "    elif year >=16:\n",
    "        print('You are an adult')\n",
    "    else:\n",
    "        print('You are not an adult')\n",
    "\n",
    "adultHood()"
   ]
  },
  {
   "cell_type": "code",
   "execution_count": null,
   "id": "8262d649",
   "metadata": {},
   "outputs": [],
   "source": [
    "adultHood()"
   ]
  },
  {
   "cell_type": "code",
   "execution_count": 9,
   "id": "49a09dcc",
   "metadata": {},
   "outputs": [
    {
     "name": "stdout",
     "output_type": "stream",
     "text": [
      "Enter your age: 10\n",
      "You are not an adult\n"
     ]
    }
   ],
   "source": [
    "adultHood()"
   ]
  },
  {
   "cell_type": "code",
   "execution_count": 3,
   "id": "1c10d773",
   "metadata": {},
   "outputs": [
    {
     "name": "stdout",
     "output_type": "stream",
     "text": [
      "Press these following letters\n",
      "CK for Celcius to Kelvin\n",
      "KC for Kelvin to Celcius\n",
      "FK for fahrenheit to kelvin\n",
      "KF for kelvin to fahrenheit\n",
      "CF for Celcius\n",
      "FC for fahrenheit to cencius\n",
      "Input your desired letter cf\n"
     ]
    },
    {
     "data": {
      "text/plain": [
       "212"
      ]
     },
     "execution_count": 3,
     "metadata": {},
     "output_type": "execute_result"
    }
   ],
   "source": [
    "def converter(degree):\n",
    "    print('Press these following letters')\n",
    "    print('CK for Celcius to Kelvin')\n",
    "    print('KC for Kelvin to Celcius')\n",
    "    print('FK for fahrenheit to kelvin')\n",
    "    print('KF for kelvin to fahrenheit')\n",
    "    print('CF for Celcius')\n",
    "    print('FC for fahrenheit to cencius')\n",
    "    unit = input('Input your desired letter ')\n",
    "    if unit == 'KC':\n",
    "        return degree + 273.15\n",
    "    elif unit == 'ck':\n",
    "        return degree - 273.15 \n",
    "    elif unit == 'fk':\n",
    "        return (degree - 32) * 5 / 9 + 273.15\n",
    "    elif unit == 'kf':\n",
    "        return  (degree - 273.15) * 9 / 5 + 32\n",
    "    elif unit == 'cf':\n",
    "        return  (degree * 9//5) + 32\n",
    "    elif unit == 'fc':\n",
    "        return  5/9*(degree - 32)\n",
    "    \n",
    "    else:\n",
    "        return 'Invalid input'\n",
    "converter(100)"
   ]
  },
  {
   "cell_type": "code",
   "execution_count": 4,
   "id": "12c1d456",
   "metadata": {},
   "outputs": [],
   "source": [
    "list = [2,2, 44, [7363, 464]]"
   ]
  },
  {
   "cell_type": "code",
   "execution_count": null,
   "id": "f92d4987",
   "metadata": {},
   "outputs": [],
   "source": []
  }
 ],
 "metadata": {
  "kernelspec": {
   "display_name": "Python 3 (ipykernel)",
   "language": "python",
   "name": "python3"
  },
  "language_info": {
   "codemirror_mode": {
    "name": "ipython",
    "version": 3
   },
   "file_extension": ".py",
   "mimetype": "text/x-python",
   "name": "python",
   "nbconvert_exporter": "python",
   "pygments_lexer": "ipython3",
   "version": "3.9.15"
  }
 },
 "nbformat": 4,
 "nbformat_minor": 5
}
