{
 "cells": [
  {
   "cell_type": "code",
   "execution_count": 14,
   "id": "1d85e6a2",
   "metadata": {},
   "outputs": [
    {
     "name": "stdout",
     "output_type": "stream",
     "text": [
      "[2, 4, 10, True, False, 'late']\n"
     ]
    },
    {
     "data": {
      "text/plain": [
       "True"
      ]
     },
     "execution_count": 14,
     "metadata": {},
     "output_type": "execute_result"
    }
   ],
   "source": [
    "firstList = [2, 4, 10, True, False, 'late']\n",
    "print(firstList)\n",
    "empty = len(firstList)\n",
    "boolean = firstList[empty//2]\n",
    "sliced = firstList[empty//2:5]\n",
    "# print(sliced)\n",
    "firstList[0] = 'early'\n",
    "firstList[1] = 'modified'\n",
    "firstList[2] = 'early'\n",
    "firstList[3] = 'early'\n",
    "firstList[4] = '76'\n",
    "firstList.append(76) #Adds an element to the end of the list.\n",
    "firstList.insert(1, 'birds') #Inserts an element at a specific index.\n",
    "firstList.remove('early')\n",
    "firstList.remove(76)  \n",
    "#firstList.pop(4)#Removes and returns an element at a specific index.\n",
    "firstList.sort()\n",
    "# firstList.reverse()\n",
    "def verify(item):\n",
    "    if item in firstList:\n",
    "        return (True)\n",
    "    else:\n",
    "        return (False) \n",
    "verify('76')\n",
    "# print(firstList)\n",
    "\n"
   ]
  },
  {
   "cell_type": "code",
   "execution_count": 15,
   "id": "edc6d34c",
   "metadata": {},
   "outputs": [
    {
     "name": "stdout",
     "output_type": "stream",
     "text": [
      "K\n"
     ]
    }
   ],
   "source": [
    "hands = [\n",
    "    ['J', 'Q', 'K'],\n",
    "    ['2', '2', '2'],\n",
    "    ['6', 'A', 'K'], # (Comma after the last element is optional)\n",
    "]\n",
    "# (I could also have written this on one line, but it can get hard to read)\n",
    "hands = [['J', 'Q', 'K'], ['2', '2', '2'], ['6', 'A', 'K']]\n",
    "print(hands[0][-1])\n"
   ]
  },
  {
   "cell_type": "code",
   "execution_count": 16,
   "id": "0cf357bf",
   "metadata": {},
   "outputs": [
    {
     "name": "stdout",
     "output_type": "stream",
     "text": [
      "[1, 4, 9, 16, 25]\n"
     ]
    }
   ],
   "source": [
    "numbers = [1, 2, 3, 4, 5]\n",
    "squared_numbers = [x**2 for x in numbers] \n",
    "print(squared_numbers)"
   ]
  },
  {
   "cell_type": "code",
   "execution_count": 17,
   "id": "bb00974e",
   "metadata": {},
   "outputs": [
    {
     "name": "stdout",
     "output_type": "stream",
     "text": [
      "[1, 2, 3, 4, 5, 7, 8, 11, 12, 15, 20, 30]\n"
     ]
    }
   ],
   "source": [
    "list1 = [1, 2, 4, 5, 3, 7]\n",
    "list2 = [8, 15, 20, 30, 11, 12]\n",
    "joinedList = list1 + list2\n",
    "joinedList.sort()\n",
    "print(joinedList)"
   ]
  },
  {
   "cell_type": "code",
   "execution_count": 18,
   "id": "52d780cf",
   "metadata": {},
   "outputs": [
    {
     "name": "stdout",
     "output_type": "stream",
     "text": [
      "['76', 'birds', 'early', 'early', 'late', 'modified']\n"
     ]
    }
   ],
   "source": [
    "copied = firstList.copy()\n",
    "print(copied)"
   ]
  },
  {
   "cell_type": "code",
   "execution_count": 19,
   "id": "2bbb0efa",
   "metadata": {},
   "outputs": [
    {
     "name": "stdout",
     "output_type": "stream",
     "text": [
      "False\n"
     ]
    }
   ],
   "source": [
    "test = '57' in firstList\n",
    "print(test)"
   ]
  },
  {
   "cell_type": "code",
   "execution_count": 20,
   "id": "24dba32b",
   "metadata": {},
   "outputs": [
    {
     "data": {
      "text/plain": [
       "'Given a list of teams, where each team is a list of names, return the 2nd player (captain)\\n    from the last listed team\\n    '"
      ]
     },
     "execution_count": 20,
     "metadata": {},
     "output_type": "execute_result"
    }
   ],
   "source": [
    "\"\"\"Given a list of teams, where each team is a list of names, return the 2nd player (captain)\n",
    "    from the last listed team\n",
    "    \"\"\""
   ]
  },
  {
   "cell_type": "code",
   "execution_count": 21,
   "id": "2997eac9",
   "metadata": {},
   "outputs": [
    {
     "name": "stdout",
     "output_type": "stream",
     "text": [
      "5\n"
     ]
    }
   ],
   "source": [
    "list = [1, 'apple', 24,True, 2.7]\n",
    "list[0] = 2\n",
    "# list.pop(1)\n",
    "\n",
    "print(len(list))"
   ]
  },
  {
   "cell_type": "code",
   "execution_count": 22,
   "id": "9674966e",
   "metadata": {},
   "outputs": [
    {
     "name": "stdout",
     "output_type": "stream",
     "text": [
      "[10, 9, 8, 7, 6, 5, 4, 3, 2, 1]\n"
     ]
    }
   ],
   "source": [
    "newList = [2, 4, 8,7,5,6,9,10,1,3]\n",
    "newList.sort()\n",
    "newList.reverse()\n",
    "print(newList)"
   ]
  },
  {
   "cell_type": "code",
   "execution_count": 23,
   "id": "d46c59e7",
   "metadata": {},
   "outputs": [
    {
     "name": "stdout",
     "output_type": "stream",
     "text": [
      "[[2, 4, 8, 7, 5, 6, 9, 10, 1, 3], [1, 'apple', 24, True, 2.7]]\n"
     ]
    }
   ],
   "source": [
    "nested = [[2, 4, 8,7,5,6,9,10,1,3], [1, 'apple', 24,True, 2.7]]\n",
    "print(nested)"
   ]
  },
  {
   "cell_type": "code",
   "execution_count": 24,
   "id": "b0b394dd",
   "metadata": {},
   "outputs": [
    {
     "name": "stdout",
     "output_type": "stream",
     "text": [
      "10\n"
     ]
    }
   ],
   "source": [
    "# check = \n",
    "concat = list + newList + nested + [10,9,8]\n",
    "if 10 in concat:\n",
    "    print(10)"
   ]
  },
  {
   "cell_type": "code",
   "execution_count": 25,
   "id": "baa99451",
   "metadata": {},
   "outputs": [
    {
     "name": "stdout",
     "output_type": "stream",
     "text": [
      "apple\n",
      "banana\n",
      "cherry\n"
     ]
    }
   ],
   "source": [
    "fruits = [\"apple\", \"banana\", \"cherry\"]\n",
    "for _gh in fruits:\n",
    "    print(_gh)"
   ]
  },
  {
   "cell_type": "code",
   "execution_count": 26,
   "id": "b166552c",
   "metadata": {},
   "outputs": [
    {
     "name": "stdout",
     "output_type": "stream",
     "text": [
      "10\n"
     ]
    }
   ],
   "source": [
    "count = 10\n",
    "while count == 10:\n",
    "    print(count)\n",
    "    count += 1"
   ]
  },
  {
   "cell_type": "code",
   "execution_count": 27,
   "id": "3d717b59",
   "metadata": {},
   "outputs": [
    {
     "name": "stdout",
     "output_type": "stream",
     "text": [
      "0\n"
     ]
    }
   ],
   "source": [
    "num = 4\n",
    "# num %= 5 #num = num + 5\n",
    "print(num % 2)"
   ]
  },
  {
   "cell_type": "code",
   "execution_count": 28,
   "id": "e2c86426",
   "metadata": {},
   "outputs": [
    {
     "name": "stdout",
     "output_type": "stream",
     "text": [
      "0 even\n",
      "1 odd\n",
      "2 even\n",
      "3 odd\n",
      "4 even\n",
      "5 odd\n",
      "6 even\n",
      "7 odd\n",
      "8 even\n",
      "9 odd\n",
      "10 even\n",
      "11 odd\n",
      "12 even\n",
      "13 odd\n",
      "14 even\n",
      "15 odd\n",
      "16 even\n",
      "17 odd\n",
      "18 even\n",
      "19 odd\n",
      "20 even\n",
      "21 odd\n",
      "22 even\n",
      "23 odd\n",
      "24 even\n",
      "25 odd\n",
      "26 even\n",
      "27 odd\n",
      "28 even\n",
      "29 odd\n",
      "30 even\n",
      "31 odd\n",
      "32 even\n",
      "33 odd\n",
      "34 even\n",
      "35 odd\n",
      "36 even\n",
      "37 odd\n",
      "38 even\n",
      "39 odd\n",
      "40 even\n",
      "41 odd\n",
      "42 even\n",
      "43 odd\n",
      "44 even\n",
      "45 odd\n",
      "46 even\n",
      "47 odd\n",
      "48 even\n",
      "49 odd\n",
      "50 even\n",
      "51 odd\n",
      "52 even\n",
      "53 odd\n",
      "54 even\n",
      "55 odd\n",
      "56 even\n",
      "57 odd\n",
      "58 even\n",
      "59 odd\n",
      "60 even\n",
      "61 odd\n",
      "62 even\n",
      "63 odd\n",
      "64 even\n",
      "65 odd\n",
      "66 even\n",
      "67 odd\n",
      "68 even\n",
      "69 odd\n",
      "70 even\n",
      "71 odd\n",
      "72 even\n",
      "73 odd\n",
      "74 even\n",
      "75 odd\n",
      "76 even\n",
      "77 odd\n",
      "78 even\n",
      "79 odd\n",
      "80 even\n",
      "81 odd\n",
      "82 even\n",
      "83 odd\n",
      "84 even\n",
      "85 odd\n",
      "86 even\n",
      "87 odd\n",
      "88 even\n",
      "89 odd\n",
      "90 even\n",
      "91 odd\n",
      "92 even\n",
      "93 odd\n",
      "94 even\n",
      "95 odd\n",
      "96 even\n",
      "97 odd\n",
      "98 even\n",
      "99 odd\n"
     ]
    }
   ],
   "source": [
    "for num in range(0,100):\n",
    "    if (num % 2 == 0):\n",
    "        print(str(num) +' even')\n",
    "    else:\n",
    "        print(str(num) +' odd')"
   ]
  },
  {
   "cell_type": "code",
   "execution_count": 29,
   "id": "b5858f6e",
   "metadata": {},
   "outputs": [
    {
     "name": "stdout",
     "output_type": "stream",
     "text": [
      "[5, 'name', True, 45]\n"
     ]
    }
   ],
   "source": [
    "listNow = [2, 5, 'name', True, 45, 60]\n",
    "listThen = listNow[1:5]\n",
    "print(listThen)"
   ]
  },
  {
   "cell_type": "code",
   "execution_count": 30,
   "id": "c06d1662",
   "metadata": {},
   "outputs": [
    {
     "name": "stdout",
     "output_type": "stream",
     "text": [
      "range(7, 21)\n"
     ]
    }
   ],
   "source": [
    "ranGe = range(7,21)\n",
    "print(ranGe)"
   ]
  },
  {
   "cell_type": "code",
   "execution_count": 31,
   "id": "f6f8b862",
   "metadata": {},
   "outputs": [
    {
     "name": "stdout",
     "output_type": "stream",
     "text": [
      "[343, 512, 729, 1000, 1331, 1728, 2197, 2744, 3375, 4096, 4913, 5832, 6859, 8000]\n"
     ]
    }
   ],
   "source": [
    "sqaured = [x**3 for x in ranGe]\n",
    "print(sqaured)"
   ]
  },
  {
   "cell_type": "code",
   "execution_count": 32,
   "id": "c75d1478",
   "metadata": {},
   "outputs": [
    {
     "name": "stdout",
     "output_type": "stream",
     "text": [
      "343\n",
      "512\n",
      "729\n",
      "1000\n",
      "1331\n",
      "1728\n",
      "2197\n",
      "2744\n",
      "3375\n",
      "4096\n",
      "4913\n",
      "5832\n",
      "6859\n",
      "8000\n"
     ]
    }
   ],
   "source": [
    "for x in ranGe:\n",
    "    print(x**3)"
   ]
  },
  {
   "cell_type": "code",
   "execution_count": 33,
   "id": "08b70edb",
   "metadata": {},
   "outputs": [
    {
     "name": "stdout",
     "output_type": "stream",
     "text": [
      "[1, 64, 125, 216, 328509, 84027672, 5949419328, 27, 64]\n"
     ]
    }
   ],
   "source": [
    "tuple = (1, 4, 5,6 ,69, 438, 1812, 3, 4)\n",
    "cube = [x**3 for x in tuple]\n",
    "print(cube)"
   ]
  },
  {
   "cell_type": "code",
   "execution_count": 34,
   "id": "131a7871",
   "metadata": {},
   "outputs": [
    {
     "name": "stdout",
     "output_type": "stream",
     "text": [
      "[1, 2, 3, 4, 5, 6, 7, 8, 9, 10, 11, 12, 13, 14, 15, 16, 17, 18, 19, 20]\n"
     ]
    }
   ],
   "source": [
    "newRange = range(1,21)\n",
    "newList = [x for x in newRange]\n",
    "print(newList)"
   ]
  },
  {
   "cell_type": "code",
   "execution_count": 35,
   "id": "91177bcb",
   "metadata": {},
   "outputs": [
    {
     "name": "stdout",
     "output_type": "stream",
     "text": [
      "[1, 3, 5, 7, 9, 11, 13, 15, 17, 19]\n"
     ]
    }
   ],
   "source": [
    "oddList = [x for x in newList if (x%2 != 0)]\n",
    "print(oddList)"
   ]
  },
  {
   "cell_type": "code",
   "execution_count": 36,
   "id": "2734f7e4",
   "metadata": {},
   "outputs": [
    {
     "name": "stdout",
     "output_type": "stream",
     "text": [
      "[1, 2, 3, 4, 5, 6, 7, 8, 9]\n"
     ]
    }
   ],
   "source": [
    "matrix = [[1, 2, 3], [4, 5, 6], [7, 8, 9]]\n",
    "flattened_matrix = [x for row in matrix for x in row]\n",
    "print(flattened_matrix)"
   ]
  },
  {
   "cell_type": "code",
   "execution_count": 44,
   "id": "ec754cbe",
   "metadata": {},
   "outputs": [
    {
     "name": "stdout",
     "output_type": "stream",
     "text": [
      "[343, 512, 729, 1000, 1331, 1728, 2197, 2744, 3375, 4096, 4913, 5832, 6859, 8000]\n"
     ]
    }
   ],
   "source": [
    "empty = []\n",
    "for x in range(7,21):\n",
    "    empty.insert(x,x**3)\n",
    "print(empty)"
   ]
  },
  {
   "cell_type": "code",
   "execution_count": 38,
   "id": "a25b5867",
   "metadata": {},
   "outputs": [
    {
     "name": "stdout",
     "output_type": "stream",
     "text": [
      "[343, 512, 729, 1000, 1331, 1728, 2197, 2744, 3375, 4096, 4913, 5832, 6859, 8000]\n"
     ]
    }
   ],
   "source": [
    "notEmpty = [x**3 for x in range(7,21)]\n",
    "print(notEmpty)"
   ]
  },
  {
   "cell_type": "code",
   "execution_count": 42,
   "id": "1fccbebc",
   "metadata": {},
   "outputs": [
    {
     "name": "stdout",
     "output_type": "stream",
     "text": [
      "4\n",
      "[1, 3, 'new', 4, 5]\n",
      "5\n"
     ]
    }
   ],
   "source": [
    "insertList = [1,3,4,5]\n",
    "print(len(insertList))\n",
    "insertList.insert(2, 'new')\n",
    "print(insertList)\n",
    "print(len(insertList))"
   ]
  },
  {
   "cell_type": "code",
   "execution_count": 51,
   "id": "a55c07ba",
   "metadata": {},
   "outputs": [],
   "source": [
    "name = 'Jafar'"
   ]
  },
  {
   "cell_type": "code",
   "execution_count": 3,
   "id": "05366d69",
   "metadata": {},
   "outputs": [
    {
     "data": {
      "text/plain": [
       "8"
      ]
     },
     "execution_count": 3,
     "metadata": {},
     "output_type": "execute_result"
    }
   ],
   "source": [
    "greeting = 'Hello'\n",
    "def nwhbhds(h,c):\n",
    "    return h + c \n",
    "\n",
    "nwhbhds(4,4)"
   ]
  },
  {
   "cell_type": "code",
   "execution_count": null,
   "id": "5215188b",
   "metadata": {},
   "outputs": [],
   "source": []
  }
 ],
 "metadata": {
  "kernelspec": {
   "display_name": "Python 3 (ipykernel)",
   "language": "python",
   "name": "python3"
  },
  "language_info": {
   "codemirror_mode": {
    "name": "ipython",
    "version": 3
   },
   "file_extension": ".py",
   "mimetype": "text/x-python",
   "name": "python",
   "nbconvert_exporter": "python",
   "pygments_lexer": "ipython3",
   "version": "3.11.4"
  }
 },
 "nbformat": 4,
 "nbformat_minor": 5
}
