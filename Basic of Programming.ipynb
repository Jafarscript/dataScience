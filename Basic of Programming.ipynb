{
 "cells": [
  {
   "cell_type": "code",
   "execution_count": 96,
   "id": "87f56c73",
   "metadata": {},
   "outputs": [
    {
     "name": "stdout",
     "output_type": "stream",
     "text": [
      "ridwan\n"
     ]
    }
   ],
   "source": [
    "print(\"ridwan\") #ridwan is a string"
   ]
  },
  {
   "cell_type": "code",
   "execution_count": 98,
   "id": "9eae6176",
   "metadata": {},
   "outputs": [],
   "source": [
    "firstnumber = 90 #firstnumber is a variable name\n",
    "# = is use to assign value to a variable\n",
    "# 90 is the value assigned to the variable"
   ]
  },
  {
   "cell_type": "code",
   "execution_count": null,
   "id": "a1eafbd0",
   "metadata": {},
   "outputs": [],
   "source": []
  },
  {
   "cell_type": "code",
   "execution_count": 99,
   "id": "d7a292a4",
   "metadata": {},
   "outputs": [],
   "source": [
    "secondnumber = 60 #secondnumber is a variable name\n",
    "# = is use to assign value to a variable\n",
    "# 60 is the value assigned to the variable"
   ]
  },
  {
   "cell_type": "code",
   "execution_count": 102,
   "id": "dbc8e232",
   "metadata": {},
   "outputs": [],
   "source": [
    "sum = firstnumber+secondnumber\n",
    "#sum is also a variable"
   ]
  },
  {
   "cell_type": "code",
   "execution_count": 115,
   "id": "b27b115d",
   "metadata": {},
   "outputs": [
    {
     "name": "stdout",
     "output_type": "stream",
     "text": [
      "150\n"
     ]
    }
   ],
   "source": [
    "print (sum)"
   ]
  },
  {
   "cell_type": "code",
   "execution_count": 10,
   "id": "cbbc2ca8",
   "metadata": {},
   "outputs": [],
   "source": [
    "## Data Types in Python are:\n",
    "# 1.String\n",
    "# 2.Numbers\n",
    "# 3.List\n",
    "# 4.Boelean\n"
   ]
  },
  {
   "cell_type": "code",
   "execution_count": 15,
   "id": "541abafa",
   "metadata": {},
   "outputs": [],
   "source": [
    "filled = True\n",
    "notFilled = False "
   ]
  },
  {
   "cell_type": "code",
   "execution_count": 16,
   "id": "3a04a09d",
   "metadata": {},
   "outputs": [
    {
     "name": "stdout",
     "output_type": "stream",
     "text": [
      "True\n"
     ]
    }
   ],
   "source": [
    "print(filled)"
   ]
  },
  {
   "cell_type": "code",
   "execution_count": 113,
   "id": "23270a5e",
   "metadata": {},
   "outputs": [
    {
     "ename": "SyntaxError",
     "evalue": "invalid syntax (3253012285.py, line 1)",
     "output_type": "error",
     "traceback": [
      "\u001b[0;36m  Cell \u001b[0;32mIn[113], line 1\u001b[0;36m\u001b[0m\n\u001b[0;31m    it is use to declare a function, addSum is the name of the function\u001b[0m\n\u001b[0m              ^\u001b[0m\n\u001b[0;31mSyntaxError\u001b[0m\u001b[0;31m:\u001b[0m invalid syntax\n"
     ]
    }
   ],
   "source": [
    "#it is use to declare a function, addSum is the name of the function\n",
    "#Declaring a function\n",
    "#Indentation\n",
    "def firstFunction(first, second, third):\n",
    "    sum = first + second + third\n",
    "    return sum # the end of the function\n",
    "\n",
    "\n",
    "\n",
    "firstFunction(17,45,67)\n"
   ]
  },
  {
   "cell_type": "code",
   "execution_count": 63,
   "id": "8b004ad5",
   "metadata": {},
   "outputs": [
    {
     "name": "stdout",
     "output_type": "stream",
     "text": [
      "False\n"
     ]
    }
   ],
   "source": [
    "print(notFilled)"
   ]
  },
  {
   "cell_type": "code",
   "execution_count": 42,
   "id": "64ba75d9",
   "metadata": {},
   "outputs": [
    {
     "name": "stdout",
     "output_type": "stream",
     "text": [
      "The sum of the three numbers are 102\n"
     ]
    },
    {
     "data": {
      "text/plain": [
       "102"
      ]
     },
     "execution_count": 42,
     "metadata": {},
     "output_type": "execute_result"
    }
   ],
   "source": [
    "addSum(23,67,12)"
   ]
  },
  {
   "cell_type": "code",
   "execution_count": 34,
   "id": "1d4f02e7",
   "metadata": {},
   "outputs": [],
   "source": [
    "#first, second and third are parameters for the function\n",
    "#addSum() is use to call the fuction \n",
    "#23,67,12 are arguement"
   ]
  },
  {
   "cell_type": "code",
   "execution_count": 67,
   "id": "1917d3ad",
   "metadata": {},
   "outputs": [
    {
     "data": {
      "text/plain": [
       "-25"
      ]
     },
     "execution_count": 67,
     "metadata": {},
     "output_type": "execute_result"
    }
   ],
   "source": [
    "#subtractions\n",
    "def secondfunction (first, second):\n",
    "    return (first - second)\n",
    "secondfunction (20, 45)\n",
    "\n",
    "        "
   ]
  },
  {
   "cell_type": "code",
   "execution_count": 114,
   "id": "35ffeab0",
   "metadata": {},
   "outputs": [
    {
     "name": "stdout",
     "output_type": "stream",
     "text": [
      "49\n"
     ]
    }
   ],
   "source": [
    "print(7**2) #expotential"
   ]
  },
  {
   "cell_type": "code",
   "execution_count": 73,
   "id": "4a2e41c9",
   "metadata": {},
   "outputs": [
    {
     "name": "stdout",
     "output_type": "stream",
     "text": [
      "245\n",
      "30\n"
     ]
    }
   ],
   "source": [
    "print(49*5) #multiplication\n",
    "mutliply = 6 * 5\n",
    "print(mutliply)"
   ]
  },
  {
   "cell_type": "code",
   "execution_count": 74,
   "id": "ca134b0e",
   "metadata": {},
   "outputs": [
    {
     "name": "stdout",
     "output_type": "stream",
     "text": [
      "4.0\n"
     ]
    }
   ],
   "source": [
    "print(12/3) #division"
   ]
  },
  {
   "cell_type": "code",
   "execution_count": 66,
   "id": "49f3bc44",
   "metadata": {},
   "outputs": [
    {
     "data": {
      "text/plain": [
       "122"
      ]
     },
     "execution_count": 66,
     "metadata": {},
     "output_type": "execute_result"
    }
   ],
   "source": [
    "firstFunction(10,45,67)"
   ]
  },
  {
   "cell_type": "code",
   "execution_count": 77,
   "id": "2c024f02",
   "metadata": {},
   "outputs": [],
   "source": [
    "test = \"My division\" + str(12/3)"
   ]
  },
  {
   "cell_type": "code",
   "execution_count": 80,
   "id": "c47afcbf",
   "metadata": {},
   "outputs": [
    {
     "name": "stdout",
     "output_type": "stream",
     "text": [
      "My division 4.0\n",
      "My division4\n"
     ]
    }
   ],
   "source": [
    "print('My division 4.0')\n",
    "print(test)"
   ]
  },
  {
   "cell_type": "code",
   "execution_count": 57,
   "id": "bc32d948",
   "metadata": {},
   "outputs": [
    {
     "name": "stdout",
     "output_type": "stream",
     "text": [
      "4\n"
     ]
    }
   ],
   "source": [
    "print(24%5) #mod "
   ]
  },
  {
   "cell_type": "code",
   "execution_count": 58,
   "id": "aa8c9d54",
   "metadata": {},
   "outputs": [
    {
     "name": "stdout",
     "output_type": "stream",
     "text": [
      "2\n"
     ]
    }
   ],
   "source": [
    "reminder = 12%5\n",
    "print(reminder)"
   ]
  },
  {
   "cell_type": "code",
   "execution_count": 59,
   "id": "8e4f86c7",
   "metadata": {},
   "outputs": [],
   "source": [
    "#Addition sybmbol = +\n",
    "#Subtractiob sybmbol = -\n",
    "#multiplication sybmbol = *\n",
    "#expotential sybmbol = **\n",
    "#Mod sybmbol = % percentage sign\n"
   ]
  },
  {
   "cell_type": "code",
   "execution_count": 61,
   "id": "90d63e36",
   "metadata": {},
   "outputs": [],
   "source": [
    "#Declare a function called arithmetic which have six parameters\n",
    "#Step 1: Inside assign the sum of the six numbers to a variable\n",
    "#Step 2: Assign the subtract of the first four numbers to a variable\n",
    "#Step 3: Multiply the sum and the subtract from step 1 and step 2, then assign it to a variable\n",
    "#Step 4: find the reminder of the result in step 3 when divided by 3\n",
    "#Step 4: return the reminder\n",
    "#call the function arithematic"
   ]
  },
  {
   "cell_type": "code",
   "execution_count": 94,
   "id": "51041834",
   "metadata": {},
   "outputs": [
    {
     "data": {
      "text/plain": [
       "2"
      ]
     },
     "execution_count": 94,
     "metadata": {},
     "output_type": "execute_result"
    }
   ],
   "source": [
    "def parameter (first, second, third, fourth, fifth, sixth):\n",
    "    sum = (first +second +third +fourth +fifth + sixth)\n",
    "    sub = (first -second -third  -fourth)\n",
    "    mul = (sum*sub)\n",
    "    rem = mul%3\n",
    "    return rem\n",
    "parameter (50,60,70,80,90,50)\n",
    "    "
   ]
  },
  {
   "cell_type": "code",
   "execution_count": 95,
   "id": "7bb8b4a0",
   "metadata": {},
   "outputs": [
    {
     "data": {
      "text/plain": [
       "2"
      ]
     },
     "execution_count": 95,
     "metadata": {},
     "output_type": "execute_result"
    }
   ],
   "source": [
    "def arithmetic (value1, value2, value3, value4, value5, value6):\n",
    "    variable1 = value1 + value2 + value3 + value4 + value5 + value6\n",
    "    variable2 = value1 - value2 - value3 - value4\n",
    "    variable3 = variable1*variable2\n",
    "    reminder = variable3%3\n",
    "    return reminder\n",
    "arithmetic (10, 5, 2, 1, 45, 37)"
   ]
  },
  {
   "cell_type": "code",
   "execution_count": null,
   "id": "55b4fb95",
   "metadata": {},
   "outputs": [],
   "source": []
  }
 ],
 "metadata": {
  "kernelspec": {
   "display_name": "Python 3 (ipykernel)",
   "language": "python",
   "name": "python3"
  },
  "language_info": {
   "codemirror_mode": {
    "name": "ipython",
    "version": 3
   },
   "file_extension": ".py",
   "mimetype": "text/x-python",
   "name": "python",
   "nbconvert_exporter": "python",
   "pygments_lexer": "ipython3",
   "version": "3.9.15"
  }
 },
 "nbformat": 4,
 "nbformat_minor": 5
}
